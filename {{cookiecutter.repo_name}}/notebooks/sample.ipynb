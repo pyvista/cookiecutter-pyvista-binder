{
 "cells": [
  {
   "cell_type": "code",
   "execution_count": null,
   "metadata": {},
   "outputs": [],
   "source": [
    "import pyvista\n",
    "from pyvista import examples\n",
    "import numpy as np\n",
    "pyvista.set_plot_theme('document')"
   ]
  },
  {
   "cell_type": "markdown",
   "metadata": {},
   "source": [
    "# Example 1"
   ]
  },
  {
   "cell_type": "code",
   "execution_count": null,
   "metadata": {},
   "outputs": [],
   "source": [
    "# Load St Helens DEM and warp the topography\n",
    "mesh = examples.download_st_helens().warp_by_scalar()\n",
    "\n",
    "mesh.plot(opacity='linear')"
   ]
  },
  {
   "cell_type": "markdown",
   "metadata": {},
   "source": [
    "# Example 2"
   ]
  },
  {
   "cell_type": "code",
   "execution_count": null,
   "metadata": {},
   "outputs": [],
   "source": [
    "sphere = pyvista.Sphere(radius=3.14)\n",
    "\n",
    "# make cool swirly pattern\n",
    "vectors = np.vstack((np.sin(sphere.points[:, 0]),\n",
    "np.cos(sphere.points[:, 1]),\n",
    "np.cos(sphere.points[:, 2]))).T\n",
    "\n",
    "# add and scale\n",
    "sphere.vectors = vectors*0.3\n",
    "\n",
    "# plot just the arrows\n",
    "sphere.arrows.plot()"
   ]
  },
  {
   "cell_type": "code",
   "execution_count": null,
   "metadata": {},
   "outputs": [],
   "source": [
    "# plot the arrows and the sphere\n",
    "p = pyvista.Plotter()\n",
    "p.add_mesh(sphere.arrows, lighting=False, stitle='Vector Magnitude')\n",
    "p.add_mesh(sphere, color='grey', ambient=0.6, opacity=0.5, show_edges=False)\n",
    "p.show()"
   ]
  },
  {
   "cell_type": "code",
   "execution_count": null,
   "metadata": {},
   "outputs": [],
   "source": []
  }
 ],
 "metadata": {
  "kernelspec": {
   "display_name": "Python 3",
   "language": "python",
   "name": "python3"
  },
  "language_info": {
   "codemirror_mode": {
    "name": "ipython",
    "version": 3
   },
   "file_extension": ".py",
   "mimetype": "text/x-python",
   "name": "python",
   "nbconvert_exporter": "python",
   "pygments_lexer": "ipython3",
   "version": "3.7.2"
  }
 },
 "nbformat": 4,
 "nbformat_minor": 2
}
